{
 "cells": [
  {
   "cell_type": "code",
   "execution_count": 2,
   "id": "74fccb11",
   "metadata": {},
   "outputs": [
    {
     "name": "stdout",
     "output_type": "stream",
     "text": [
      "\n",
      "\n",
      "\n",
      "\n",
      "\n",
      "\n",
      "[[1, 2, 3], [1, 2], [1, 3], [1], [2, 3], [2], [3], []]\n"
     ]
    }
   ],
   "source": [
    "def subsetList(lst):\n",
    "    if len(lst) == 0:\n",
    "        return [[]]\n",
    "    sublists = []\n",
    "    first_ele = lst[0]\n",
    "    rest_list = lst[1:]\n",
    "    sublists_of_rest = subsetList(rest_list)\n",
    "    for sublist in sublists_of_rest:\n",
    "        sublists.append([first_ele] + sublist)\n",
    "    sublists.extend(sublists_of_rest)\n",
    "    print()\n",
    "    print()\n",
    "    return sublists\n",
    "l1 = [1,2,3]\n",
    "print(subsetList(l1))"
   ]
  },
  {
   "cell_type": "code",
   "execution_count": null,
   "id": "55cf75d9",
   "metadata": {},
   "outputs": [],
   "source": []
  }
 ],
 "metadata": {
  "kernelspec": {
   "display_name": "Python 3 (ipykernel)",
   "language": "python",
   "name": "python3"
  },
  "language_info": {
   "codemirror_mode": {
    "name": "ipython",
    "version": 3
   },
   "file_extension": ".py",
   "mimetype": "text/x-python",
   "name": "python",
   "nbconvert_exporter": "python",
   "pygments_lexer": "ipython3",
   "version": "3.9.13"
  }
 },
 "nbformat": 4,
 "nbformat_minor": 5
}
