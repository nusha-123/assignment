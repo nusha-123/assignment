{
 "cells": [
  {
   "cell_type": "code",
   "execution_count": 1,
   "id": "5d322c0f",
   "metadata": {},
   "outputs": [
    {
     "name": "stdout",
     "output_type": "stream",
     "text": [
      "a,ab,abc,abcd,abcde,abcdef,abcdefg,\n",
      "b,bc,bcd,bcde,bcdef,bcdefg,\n",
      "c,cd,cde,cdef,cdefg,\n",
      "d,de,def,defg,\n",
      "e,ef,efg,\n",
      "f,fg,\n",
      "g,\n"
     ]
    }
   ],
   "source": [
    "def fname(x):\n",
    "    for i in range(len(x)):\n",
    "        for j in range(len(x)+1):\n",
    "            if i<j:\n",
    "                print(x[i:j], end=',')\n",
    "        print()\n",
    "            \n",
    "\n",
    "fname('abcdefg')"
   ]
  },
  {
   "cell_type": "code",
   "execution_count": null,
   "id": "ef894430",
   "metadata": {},
   "outputs": [],
   "source": []
  }
 ],
 "metadata": {
  "kernelspec": {
   "display_name": "Python 3 (ipykernel)",
   "language": "python",
   "name": "python3"
  },
  "language_info": {
   "codemirror_mode": {
    "name": "ipython",
    "version": 3
   },
   "file_extension": ".py",
   "mimetype": "text/x-python",
   "name": "python",
   "nbconvert_exporter": "python",
   "pygments_lexer": "ipython3",
   "version": "3.9.13"
  }
 },
 "nbformat": 4,
 "nbformat_minor": 5
}
