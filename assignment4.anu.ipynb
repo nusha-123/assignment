{
 "cells": [
  {
   "cell_type": "code",
   "execution_count": 14,
   "id": "47bfeecc",
   "metadata": {},
   "outputs": [
    {
     "data": {
      "text/plain": [
       "[(6, 8), (10, 3), (2, 9), (13, 12), (45, 54), (67, 322), (32, 98), (1, 54)]"
      ]
     },
     "execution_count": 14,
     "metadata": {},
     "output_type": "execute_result"
    }
   ],
   "source": [
    "l1 = [6,10,2,13,45,67,32,1]\n",
    "l2 = [8,3,9,12,54,322,98,54]\n",
    "l=list(zip(l1,l2))\n",
    "l\n"
   ]
  },
  {
   "cell_type": "code",
   "execution_count": 15,
   "id": "a9c87d5f",
   "metadata": {},
   "outputs": [
    {
     "data": {
      "text/plain": [
       "[(1, 54), (2, 9), (6, 8), (10, 3), (13, 12), (32, 98), (45, 54), (67, 322)]"
      ]
     },
     "execution_count": 15,
     "metadata": {},
     "output_type": "execute_result"
    }
   ],
   "source": [
    "l1 = [6,10,2,13,45,67,32,1]\n",
    "l2 = [8,3,9,12,54,322,98,54]\n",
    "l=list(zip(l1,l2))\n",
    "l\n",
    "l.sort()\n",
    "l"
   ]
  },
  {
   "cell_type": "code",
   "execution_count": 23,
   "id": "378eadb6",
   "metadata": {},
   "outputs": [
    {
     "name": "stdout",
     "output_type": "stream",
     "text": [
      "[1, 2, 6, 10, 13, 32, 45, 67]\n",
      "[54, 9, 8, 3, 12, 98, 54, 322]\n"
     ]
    }
   ],
   "source": [
    "l1 = [6,10,2,13,45,67,32,1]\n",
    "l2 = [8,3,9,12,54,322,98,54]\n",
    "l=list(zip(l1,l2))\n",
    "l\n",
    "l.sort()\n",
    "l\n",
    "l1,l2=list(zip(*l))\n",
    "\n",
    "print(list(l1))\n",
    "print(list(l2))"
   ]
  },
  {
   "cell_type": "code",
   "execution_count": 26,
   "id": "f40b6639",
   "metadata": {},
   "outputs": [
    {
     "name": "stdout",
     "output_type": "stream",
     "text": [
      "l1_sorted list is : [1, 2, 6, 10, 13, 32, 45, 67]\n",
      "l2_updated list is : [54, 9, 8, 3, 12, 98, 54, 322]\n"
     ]
    }
   ],
   "source": [
    "def list_sorted(l1,l2):\n",
    "    l=list(zip(l1,l2))\n",
    "    l\n",
    "    l.sort()\n",
    "    l\n",
    "    l1,l2=list(zip(*l))\n",
    "\n",
    "print('l1_sorted list is :', list(l1))\n",
    "print('l2_updated list is :', list(l2))  \n",
    "list_sorted([6,10,2,13,45,67,32,1], [8,3,9,12,54,322,98,54])"
   ]
  },
  {
   "cell_type": "code",
   "execution_count": null,
   "id": "02e64c69",
   "metadata": {},
   "outputs": [],
   "source": []
  },
  {
   "cell_type": "code",
   "execution_count": null,
   "id": "b0e7b3aa",
   "metadata": {},
   "outputs": [],
   "source": []
  },
  {
   "cell_type": "code",
   "execution_count": null,
   "id": "70b3b7b2",
   "metadata": {},
   "outputs": [],
   "source": []
  },
  {
   "cell_type": "code",
   "execution_count": null,
   "id": "3fa823d5",
   "metadata": {},
   "outputs": [],
   "source": []
  },
  {
   "cell_type": "code",
   "execution_count": null,
   "id": "9be9a9f1",
   "metadata": {},
   "outputs": [],
   "source": []
  },
  {
   "cell_type": "code",
   "execution_count": null,
   "id": "76c6cba2",
   "metadata": {},
   "outputs": [],
   "source": []
  },
  {
   "cell_type": "code",
   "execution_count": null,
   "id": "8502ddb3",
   "metadata": {},
   "outputs": [],
   "source": []
  },
  {
   "cell_type": "code",
   "execution_count": null,
   "id": "ff967859",
   "metadata": {},
   "outputs": [],
   "source": [
    "l1"
   ]
  }
 ],
 "metadata": {
  "kernelspec": {
   "display_name": "Python 3 (ipykernel)",
   "language": "python",
   "name": "python3"
  },
  "language_info": {
   "codemirror_mode": {
    "name": "ipython",
    "version": 3
   },
   "file_extension": ".py",
   "mimetype": "text/x-python",
   "name": "python",
   "nbconvert_exporter": "python",
   "pygments_lexer": "ipython3",
   "version": "3.9.13"
  }
 },
 "nbformat": 4,
 "nbformat_minor": 5
}
