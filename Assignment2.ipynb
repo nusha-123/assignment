{
 "cells": [
  {
   "cell_type": "code",
   "execution_count": 6,
   "id": "d31451d9",
   "metadata": {},
   "outputs": [],
   "source": [
    "def arithmetic_mean(numbers):\n",
    "    mean = sum(numbers)/len(numbers)\n",
    "    return mean\n",
    "\n",
    "def harmonic_mean(num):\n",
    "    harmonic_mean =len(num)/sum(1/i for i in num)\n",
    "    return harmonic_mean\n",
    "\n",
    "def geometric_mean(num):\n",
    "    gm=1\n",
    "    for i in num:\n",
    "        gm*=i\n",
    "    return gm**(1/len(num))"
   ]
  },
  {
   "cell_type": "code",
   "execution_count": 2,
   "id": "0ca8b4ef",
   "metadata": {},
   "outputs": [
    {
     "data": {
      "text/plain": [
       "5.75"
      ]
     },
     "execution_count": 2,
     "metadata": {},
     "output_type": "execute_result"
    }
   ],
   "source": [
    "arithmetic_mean([5,8,6,4])"
   ]
  },
  {
   "cell_type": "code",
   "execution_count": 7,
   "id": "9c764123",
   "metadata": {},
   "outputs": [
    {
     "data": {
      "text/plain": [
       "1.9672131147540985"
      ]
     },
     "execution_count": 7,
     "metadata": {},
     "output_type": "execute_result"
    }
   ],
   "source": [
    "harmonic_mean([2,5,3,1])"
   ]
  },
  {
   "cell_type": "code",
   "execution_count": 8,
   "id": "6cb92278",
   "metadata": {},
   "outputs": [
    {
     "data": {
      "text/plain": [
       "2.605171084697352"
      ]
     },
     "execution_count": 8,
     "metadata": {},
     "output_type": "execute_result"
    }
   ],
   "source": [
    "geometric_mean([1,2,3,4,5])"
   ]
  },
  {
   "cell_type": "code",
   "execution_count": null,
   "id": "38ce9e57",
   "metadata": {},
   "outputs": [],
   "source": []
  }
 ],
 "metadata": {
  "kernelspec": {
   "display_name": "Python 3 (ipykernel)",
   "language": "python",
   "name": "python3"
  },
  "language_info": {
   "codemirror_mode": {
    "name": "ipython",
    "version": 3
   },
   "file_extension": ".py",
   "mimetype": "text/x-python",
   "name": "python",
   "nbconvert_exporter": "python",
   "pygments_lexer": "ipython3",
   "version": "3.9.13"
  }
 },
 "nbformat": 4,
 "nbformat_minor": 5
}
